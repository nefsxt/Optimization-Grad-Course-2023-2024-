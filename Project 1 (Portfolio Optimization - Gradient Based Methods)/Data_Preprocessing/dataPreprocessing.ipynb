{
 "cells": [
  {
   "cell_type": "markdown",
   "id": "b4b1a568",
   "metadata": {},
   "source": [
    "## Data Preprocessing"
   ]
  },
  {
   "cell_type": "markdown",
   "id": "8e847a36",
   "metadata": {},
   "source": [
    "Necessary imports:"
   ]
  },
  {
   "cell_type": "code",
   "execution_count": 1,
   "id": "4f520b72",
   "metadata": {},
   "outputs": [],
   "source": [
    "import pandas as pd\n",
    "import numpy as np"
   ]
  },
  {
   "cell_type": "markdown",
   "id": "7ae66e97",
   "metadata": {},
   "source": [
    "There are four trade branches for which data containing the monthly price values (in millions $) of the serviced orders in the USA from February 1992 to September 2023 (a total of 380 values for each) has been provided. "
   ]
  },
  {
   "cell_type": "markdown",
   "id": "ddd9e61a",
   "metadata": {},
   "source": [
    "<br>This data must first be loaded from the branches' corresponding csv files.</br>\n",
    "\n",
    "<br><b>Branch 1 (K1) Computers and Electronic Products:</b> data ComputersElectronicProducts.csv</br>\n",
    "<br><b> Branch 2 (K2) Defense Capital Goods:</b> data DefenseCapitalGoods.csv</br>\n",
    "<br><b>Branch 3 (K3) Motor Vehicle Parts:</b> data MotorVehiclesParts.csv</br>\n",
    "<br><b>Branch 4 (K4) Primary Metals:</b> data PrimaryMetals.csv</br>"
   ]
  },
  {
   "cell_type": "markdown",
   "id": "d8dc1c62",
   "metadata": {},
   "source": [
    "Note: the first 6 rows need to be skipped to clear out unecessary information "
   ]
  },
  {
   "cell_type": "code",
   "execution_count": 2,
   "id": "c6666416",
   "metadata": {},
   "outputs": [],
   "source": [
    "k1=pd.read_csv(r\"C:\\Users\\Nefeli\\Desktop\\optiProject1\\data_ComputersElectronicProducts.csv\",skiprows=6) \n",
    "k2=pd.read_csv(r\"C:\\Users\\Nefeli\\Desktop\\optiProject1\\data_DefenseCapitalGoods.csv\",skiprows=6)\n",
    "k3=pd.read_csv(r\"C:\\Users\\Nefeli\\Desktop\\optiProject1\\data_MotorVehiclesParts.csv\",skiprows=6)\n",
    "k4=pd.read_csv(r\"C:\\Users\\Nefeli\\Desktop\\optiProject1\\data_PrimaryMetals.csv\",skiprows=6)\n",
    "\n",
    "#k1.head(10)\n",
    "#k2.head(10)\n",
    "#k3.head(10)\n",
    "#k4.head(10)"
   ]
  },
  {
   "cell_type": "code",
   "execution_count": 3,
   "id": "d6c6a7e2",
   "metadata": {},
   "outputs": [
    {
     "name": "stdout",
     "output_type": "stream",
     "text": [
      "<class 'pandas.core.frame.DataFrame'>\n",
      "RangeIndex: 384 entries, 0 to 383\n",
      "Data columns (total 2 columns):\n",
      " #   Column  Non-Null Count  Dtype  \n",
      "---  ------  --------------  -----  \n",
      " 0   Period  384 non-null    object \n",
      " 1   Value   380 non-null    float64\n",
      "dtypes: float64(1), object(1)\n",
      "memory usage: 6.1+ KB\n"
     ]
    }
   ],
   "source": [
    "k1.info()"
   ]
  },
  {
   "cell_type": "code",
   "execution_count": 4,
   "id": "9350a211",
   "metadata": {},
   "outputs": [
    {
     "name": "stdout",
     "output_type": "stream",
     "text": [
      "<class 'pandas.core.frame.DataFrame'>\n",
      "RangeIndex: 384 entries, 0 to 383\n",
      "Data columns (total 2 columns):\n",
      " #   Column  Non-Null Count  Dtype  \n",
      "---  ------  --------------  -----  \n",
      " 0   Period  384 non-null    object \n",
      " 1   Value   380 non-null    float64\n",
      "dtypes: float64(1), object(1)\n",
      "memory usage: 6.1+ KB\n"
     ]
    }
   ],
   "source": [
    "k2.info()"
   ]
  },
  {
   "cell_type": "code",
   "execution_count": 5,
   "id": "35d9f8dc",
   "metadata": {},
   "outputs": [
    {
     "name": "stdout",
     "output_type": "stream",
     "text": [
      "<class 'pandas.core.frame.DataFrame'>\n",
      "RangeIndex: 384 entries, 0 to 383\n",
      "Data columns (total 2 columns):\n",
      " #   Column  Non-Null Count  Dtype  \n",
      "---  ------  --------------  -----  \n",
      " 0   Period  384 non-null    object \n",
      " 1   Value   380 non-null    float64\n",
      "dtypes: float64(1), object(1)\n",
      "memory usage: 6.1+ KB\n"
     ]
    }
   ],
   "source": [
    "k3.info()"
   ]
  },
  {
   "cell_type": "code",
   "execution_count": 6,
   "id": "9c51d9b0",
   "metadata": {},
   "outputs": [
    {
     "name": "stdout",
     "output_type": "stream",
     "text": [
      "<class 'pandas.core.frame.DataFrame'>\n",
      "RangeIndex: 384 entries, 0 to 383\n",
      "Data columns (total 2 columns):\n",
      " #   Column  Non-Null Count  Dtype  \n",
      "---  ------  --------------  -----  \n",
      " 0   Period  384 non-null    object \n",
      " 1   Value   380 non-null    float64\n",
      "dtypes: float64(1), object(1)\n",
      "memory usage: 6.1+ KB\n"
     ]
    }
   ],
   "source": [
    "k4.info()"
   ]
  },
  {
   "cell_type": "markdown",
   "id": "63b14d86",
   "metadata": {},
   "source": [
    "<u>Note About the info:</u> The number of dates is greater than the number of values. This occurs because there are some months that need to be filtered out since they don't belong in th examined time range and have NA as their value number. NA is perceived as a null value by Pandas. "
   ]
  },
  {
   "cell_type": "markdown",
   "id": "f223c863",
   "metadata": {},
   "source": [
    "### Retain period range between Feb 1992 and Sept 2023 "
   ]
  },
  {
   "cell_type": "markdown",
   "id": "a1751505",
   "metadata": {},
   "source": [
    "By transforming the date format from Month-Year to datetime format, it is easier to define a range with the purpose of retaining only values that correspond to the time range: February 1992 - September 2023. Each date in datetime format will retain the month and year information but will have the day set to the first of the month and the time equal to 00:00:00. This extra data is not causing any problems for the purposes the dates are being used for."
   ]
  },
  {
   "cell_type": "code",
   "execution_count": 7,
   "id": "895d1a8c",
   "metadata": {},
   "outputs": [
    {
     "name": "stdout",
     "output_type": "stream",
     "text": [
      "Start = Jan 1992 -> 1992-01-01 00:00:00\n",
      "End = Dec 2023 -> 2023-12-01 00:00:00\n"
     ]
    }
   ],
   "source": [
    "#convert to datetime\n",
    "k1['Period'] = pd.to_datetime(k1['Period'], format='%b-%Y')\n",
    "k2['Period'] = pd.to_datetime(k2['Period'], format='%b-%Y')\n",
    "k3['Period'] = pd.to_datetime(k3['Period'], format='%b-%Y')\n",
    "k4['Period'] = pd.to_datetime(k4['Period'], format='%b-%Y')\n",
    "\n",
    "#Example for k1 \n",
    "print(\"Start = Jan 1992 ->\", k1['Period'].min())\n",
    "print(\"End = Dec 2023 ->\", k1['Period'].max())"
   ]
  },
  {
   "cell_type": "code",
   "execution_count": 8,
   "id": "4dbd45e3",
   "metadata": {},
   "outputs": [],
   "source": [
    "#keep only the entries for dates between Feb 1992 and Sept 2023\n",
    "\n",
    "feb92=pd.to_datetime('Feb-1992', format='%b-%Y')\n",
    "sept23=pd.to_datetime('Sep-2023', format='%b-%Y')\n",
    "\n",
    "k1 = k1[k1['Period'].between(feb92,sept23)]\n",
    "k2 = k2[k2['Period'].between(feb92,sept23)]\n",
    "k3 = k3[k3['Period'].between(feb92,sept23)]\n",
    "k4 = k4[k4['Period'].between(feb92,sept23)]"
   ]
  },
  {
   "cell_type": "markdown",
   "id": "a1f411e5",
   "metadata": {},
   "source": [
    "### Checking for null values "
   ]
  },
  {
   "cell_type": "code",
   "execution_count": 9,
   "id": "69a06612",
   "metadata": {},
   "outputs": [
    {
     "name": "stdout",
     "output_type": "stream",
     "text": [
      "<class 'pandas.core.frame.DataFrame'>\n",
      "Index: 380 entries, 1 to 380\n",
      "Data columns (total 2 columns):\n",
      " #   Column  Non-Null Count  Dtype         \n",
      "---  ------  --------------  -----         \n",
      " 0   Period  380 non-null    datetime64[ns]\n",
      " 1   Value   380 non-null    float64       \n",
      "dtypes: datetime64[ns](1), float64(1)\n",
      "memory usage: 8.9 KB\n"
     ]
    }
   ],
   "source": [
    "k1.info()"
   ]
  },
  {
   "cell_type": "code",
   "execution_count": 10,
   "id": "9c987fc5",
   "metadata": {},
   "outputs": [
    {
     "name": "stdout",
     "output_type": "stream",
     "text": [
      "<class 'pandas.core.frame.DataFrame'>\n",
      "Index: 380 entries, 1 to 380\n",
      "Data columns (total 2 columns):\n",
      " #   Column  Non-Null Count  Dtype         \n",
      "---  ------  --------------  -----         \n",
      " 0   Period  380 non-null    datetime64[ns]\n",
      " 1   Value   380 non-null    float64       \n",
      "dtypes: datetime64[ns](1), float64(1)\n",
      "memory usage: 8.9 KB\n"
     ]
    }
   ],
   "source": [
    "k2.info()"
   ]
  },
  {
   "cell_type": "code",
   "execution_count": 11,
   "id": "91cf3c21",
   "metadata": {},
   "outputs": [
    {
     "name": "stdout",
     "output_type": "stream",
     "text": [
      "<class 'pandas.core.frame.DataFrame'>\n",
      "Index: 380 entries, 1 to 380\n",
      "Data columns (total 2 columns):\n",
      " #   Column  Non-Null Count  Dtype         \n",
      "---  ------  --------------  -----         \n",
      " 0   Period  380 non-null    datetime64[ns]\n",
      " 1   Value   380 non-null    float64       \n",
      "dtypes: datetime64[ns](1), float64(1)\n",
      "memory usage: 8.9 KB\n"
     ]
    }
   ],
   "source": [
    "k3.info()"
   ]
  },
  {
   "cell_type": "code",
   "execution_count": 12,
   "id": "4e3e496f",
   "metadata": {},
   "outputs": [
    {
     "name": "stdout",
     "output_type": "stream",
     "text": [
      "<class 'pandas.core.frame.DataFrame'>\n",
      "Index: 380 entries, 1 to 380\n",
      "Data columns (total 2 columns):\n",
      " #   Column  Non-Null Count  Dtype         \n",
      "---  ------  --------------  -----         \n",
      " 0   Period  380 non-null    datetime64[ns]\n",
      " 1   Value   380 non-null    float64       \n",
      "dtypes: datetime64[ns](1), float64(1)\n",
      "memory usage: 8.9 KB\n"
     ]
    }
   ],
   "source": [
    "k4.info()"
   ]
  },
  {
   "cell_type": "markdown",
   "id": "e0da2f70",
   "metadata": {},
   "source": [
    "The files are small enough to scan over manually, but as a safety measure, the number of non-null Period entries must be equal to the number of non-null Value entries for all dataframes. It is observed that is the case for all four cases and no NA."
   ]
  },
  {
   "cell_type": "markdown",
   "id": "24f18b7a",
   "metadata": {},
   "source": [
    "### Creating the Relative Performance columns "
   ]
  },
  {
   "cell_type": "markdown",
   "id": "a8bdee11",
   "metadata": {},
   "source": [
    "A new column must be introduced in each of the dataframes. This column contains the Relative Performance values for each month, considering the first month of the examined period (Feb 1992) as the base/reference month. It is produced by applying the following formula:"
   ]
  },
  {
   "cell_type": "markdown",
   "id": "5bb53b0e",
   "metadata": {},
   "source": [
    "$$ \n",
    "R_j^{(i)} = \\frac{price \\; in \\; month \\; j \\; for\\; branch\\; K_i}{price\\; in\\; month\\; 1\\; for\\; branch\\; K_i} - 1 \n",
    "$$"
   ]
  },
  {
   "cell_type": "markdown",
   "id": "bdd5dd40",
   "metadata": {},
   "source": [
    "where j = 1,2,...,380 and i = 1,2,3,4."
   ]
  },
  {
   "cell_type": "code",
   "execution_count": 13,
   "id": "5f5a51dd",
   "metadata": {},
   "outputs": [],
   "source": [
    "def getRelativePerformanceValue(monthPrice,baseMonthPrice):\n",
    "    return ((monthPrice/baseMonthPrice)-1)"
   ]
  },
  {
   "cell_type": "code",
   "execution_count": 14,
   "id": "71d9c342",
   "metadata": {},
   "outputs": [],
   "source": [
    "k1_baseMonthPrice = k1.loc[k1['Period']==feb92 ,'Value'].values[0]  # 0 index is necessary because it returns an np array\n",
    "k2_baseMonthPrice = k2.loc[k2['Period']==feb92 ,'Value'].values[0]\n",
    "k3_baseMonthPrice = k3.loc[k3['Period']==feb92 ,'Value'].values[0]\n",
    "k4_baseMonthPrice = k4.loc[k4['Period']==feb92 ,'Value'].values[0]\n",
    "\n",
    "k1['Ri_j'] = k1['Value'].apply(lambda monthPrice : getRelativePerformanceValue(monthPrice,k1_baseMonthPrice))\n",
    "k2['Ri_j'] = k2['Value'].apply(lambda monthPrice : getRelativePerformanceValue(monthPrice,k2_baseMonthPrice))\n",
    "k3['Ri_j'] = k3['Value'].apply(lambda monthPrice : getRelativePerformanceValue(monthPrice,k3_baseMonthPrice))\n",
    "k4['Ri_j'] = k4['Value'].apply(lambda monthPrice : getRelativePerformanceValue(monthPrice,k4_baseMonthPrice))"
   ]
  },
  {
   "cell_type": "markdown",
   "id": "16b2cc18",
   "metadata": {},
   "source": [
    "### Calculating the mean Relative Performance values "
   ]
  },
  {
   "cell_type": "markdown",
   "id": "0ca69463",
   "metadata": {},
   "source": [
    "Each branch now has a relative performance vector $$R^{(i)} =[R_1^{(i)},R_2^{(i)},...,R_{380}^{(i)}]  $$"
   ]
  },
  {
   "cell_type": "markdown",
   "id": "3066bdad",
   "metadata": {},
   "source": [
    "This vector corresponds to the Ri_j column in the corresponding dataframe. It is necessary to also calculate the mean of each of those four vectors."
   ]
  },
  {
   "cell_type": "markdown",
   "id": "9464ba9d",
   "metadata": {},
   "source": [
    "The mean value for each branch $$ \\overline{R}^{(i)} = mean(R^{(i)})=\\frac{1}{380}\\sum_{j=1}^{380}R_j^{(i)}$$ can be collected in a separate vector R_means. (i=1,2,3,4)"
   ]
  },
  {
   "cell_type": "code",
   "execution_count": 15,
   "id": "d11c78ac",
   "metadata": {},
   "outputs": [
    {
     "data": {
      "text/plain": [
       "[0.29283428631380165,\n",
       " 0.38721166724539907,\n",
       " 0.7666054369330031,\n",
       " 0.6261117148659746]"
      ]
     },
     "execution_count": 15,
     "metadata": {},
     "output_type": "execute_result"
    }
   ],
   "source": [
    "R_means = [np.mean(k1['Ri_j']),np.mean(k2['Ri_j']),np.mean(k3['Ri_j']),np.mean(k4['Ri_j'])]\n",
    "R_means"
   ]
  },
  {
   "cell_type": "markdown",
   "id": "1e34b3c9",
   "metadata": {},
   "source": [
    "### Calculating the covariance matrix  "
   ]
  },
  {
   "cell_type": "markdown",
   "id": "3db7fb7e",
   "metadata": {},
   "source": [
    "Pandas has its own covariance function that can calculate the covariance of the columns of a dataframe, as demonstrated in its documentation: https://pandas.pydata.org/docs/reference/api/pandas.DataFrame.cov.html."
   ]
  },
  {
   "cell_type": "markdown",
   "id": "eb5448d1",
   "metadata": {},
   "source": [
    "The covariance matrix that must be found is the one regarding the relative performances:"
   ]
  },
  {
   "attachments": {
    "image.png": {
     "image/png": "[encoded data removed]"
    }
   },
   "cell_type": "markdown",
   "id": "d25b4840",
   "metadata": {},
   "source": [
    "![image.png](attachment:image.png)"
   ]
  },
  {
   "cell_type": "markdown",
   "id": "17465abd",
   "metadata": {},
   "source": [
    "So, the corresponding relative performance columns can be extracted and placed as columns in a new dataframe that will be used to extract the covariance matrix."
   ]
  },
  {
   "cell_type": "code",
   "execution_count": 16,
   "id": "6dcb8f31",
   "metadata": {},
   "outputs": [],
   "source": [
    "Ri_j_df = pd.concat([k1['Ri_j'], k2['Ri_j'], k3['Ri_j'],k4['Ri_j']], axis=1)"
   ]
  },
  {
   "cell_type": "code",
   "execution_count": 17,
   "id": "6ca340c0",
   "metadata": {},
   "outputs": [
    {
     "data": {
      "text/html": [
       "<div>\n",
       "<style scoped>\n",
       "    .dataframe tbody tr th:only-of-type {\n",
       "        vertical-align: middle;\n",
       "    }\n",
       "\n",
       "    .dataframe tbody tr th {\n",
       "        vertical-align: top;\n",
       "    }\n",
       "\n",
       "    .dataframe thead th {\n",
       "        text-align: right;\n",
       "    }\n",
       "</style>\n",
       "<table border=\"1\" class=\"dataframe\">\n",
       "  <thead>\n",
       "    <tr style=\"text-align: right;\">\n",
       "      <th></th>\n",
       "      <th>Ri_j</th>\n",
       "      <th>Ri_j</th>\n",
       "      <th>Ri_j</th>\n",
       "      <th>Ri_j</th>\n",
       "    </tr>\n",
       "  </thead>\n",
       "  <tbody>\n",
       "    <tr>\n",
       "      <th>1</th>\n",
       "      <td>0.000000</td>\n",
       "      <td>0.000000</td>\n",
       "      <td>0.000000</td>\n",
       "      <td>0.000000</td>\n",
       "    </tr>\n",
       "    <tr>\n",
       "      <th>2</th>\n",
       "      <td>0.126947</td>\n",
       "      <td>0.128652</td>\n",
       "      <td>0.028784</td>\n",
       "      <td>0.066991</td>\n",
       "    </tr>\n",
       "    <tr>\n",
       "      <th>3</th>\n",
       "      <td>-0.155012</td>\n",
       "      <td>-0.094094</td>\n",
       "      <td>0.070648</td>\n",
       "      <td>-0.002896</td>\n",
       "    </tr>\n",
       "    <tr>\n",
       "      <th>4</th>\n",
       "      <td>-0.051304</td>\n",
       "      <td>-0.026076</td>\n",
       "      <td>0.099856</td>\n",
       "      <td>-0.012146</td>\n",
       "    </tr>\n",
       "    <tr>\n",
       "      <th>5</th>\n",
       "      <td>0.139852</td>\n",
       "      <td>-0.064562</td>\n",
       "      <td>0.057061</td>\n",
       "      <td>0.040363</td>\n",
       "    </tr>\n",
       "    <tr>\n",
       "      <th>6</th>\n",
       "      <td>-0.107905</td>\n",
       "      <td>-0.493560</td>\n",
       "      <td>-0.289875</td>\n",
       "      <td>-0.095861</td>\n",
       "    </tr>\n",
       "    <tr>\n",
       "      <th>7</th>\n",
       "      <td>-0.058385</td>\n",
       "      <td>-0.314012</td>\n",
       "      <td>-0.042372</td>\n",
       "      <td>-0.059236</td>\n",
       "    </tr>\n",
       "    <tr>\n",
       "      <th>8</th>\n",
       "      <td>0.206001</td>\n",
       "      <td>-0.006755</td>\n",
       "      <td>-0.029377</td>\n",
       "      <td>-0.115108</td>\n",
       "    </tr>\n",
       "    <tr>\n",
       "      <th>9</th>\n",
       "      <td>-0.007082</td>\n",
       "      <td>0.557022</td>\n",
       "      <td>0.116534</td>\n",
       "      <td>-0.074185</td>\n",
       "    </tr>\n",
       "    <tr>\n",
       "      <th>10</th>\n",
       "      <td>0.136128</td>\n",
       "      <td>0.229500</td>\n",
       "      <td>0.043600</td>\n",
       "      <td>-0.084369</td>\n",
       "    </tr>\n",
       "  </tbody>\n",
       "</table>\n",
       "</div>"
      ],
      "text/plain": [
       "        Ri_j      Ri_j      Ri_j      Ri_j\n",
       "1   0.000000  0.000000  0.000000  0.000000\n",
       "2   0.126947  0.128652  0.028784  0.066991\n",
       "3  -0.155012 -0.094094  0.070648 -0.002896\n",
       "4  -0.051304 -0.026076  0.099856 -0.012146\n",
       "5   0.139852 -0.064562  0.057061  0.040363\n",
       "6  -0.107905 -0.493560 -0.289875 -0.095861\n",
       "7  -0.058385 -0.314012 -0.042372 -0.059236\n",
       "8   0.206001 -0.006755 -0.029377 -0.115108\n",
       "9  -0.007082  0.557022  0.116534 -0.074185\n",
       "10  0.136128  0.229500  0.043600 -0.084369"
      ]
     },
     "execution_count": 17,
     "metadata": {},
     "output_type": "execute_result"
    }
   ],
   "source": [
    "Ri_j_df.head(10)"
   ]
  },
  {
   "cell_type": "code",
   "execution_count": 18,
   "id": "ed26cee3",
   "metadata": {},
   "outputs": [],
   "source": [
    "#the covariance matrix is:\n",
    "M=Ri_j_df.cov()"
   ]
  },
  {
   "cell_type": "code",
   "execution_count": 19,
   "id": "d904157f",
   "metadata": {},
   "outputs": [
    {
     "data": {
      "text/html": [
       "<div>\n",
       "<style scoped>\n",
       "    .dataframe tbody tr th:only-of-type {\n",
       "        vertical-align: middle;\n",
       "    }\n",
       "\n",
       "    .dataframe tbody tr th {\n",
       "        vertical-align: top;\n",
       "    }\n",
       "\n",
       "    .dataframe thead th {\n",
       "        text-align: right;\n",
       "    }\n",
       "</style>\n",
       "<table border=\"1\" class=\"dataframe\">\n",
       "  <thead>\n",
       "    <tr style=\"text-align: right;\">\n",
       "      <th></th>\n",
       "      <th>Ri_j</th>\n",
       "      <th>Ri_j</th>\n",
       "      <th>Ri_j</th>\n",
       "      <th>Ri_j</th>\n",
       "    </tr>\n",
       "  </thead>\n",
       "  <tbody>\n",
       "    <tr>\n",
       "      <th>Ri_j</th>\n",
       "      <td>0.074932</td>\n",
       "      <td>0.016453</td>\n",
       "      <td>-0.007063</td>\n",
       "      <td>-0.025907</td>\n",
       "    </tr>\n",
       "    <tr>\n",
       "      <th>Ri_j</th>\n",
       "      <td>0.016453</td>\n",
       "      <td>0.386793</td>\n",
       "      <td>0.117408</td>\n",
       "      <td>0.125475</td>\n",
       "    </tr>\n",
       "    <tr>\n",
       "      <th>Ri_j</th>\n",
       "      <td>-0.007063</td>\n",
       "      <td>0.117408</td>\n",
       "      <td>0.213959</td>\n",
       "      <td>0.136683</td>\n",
       "    </tr>\n",
       "    <tr>\n",
       "      <th>Ri_j</th>\n",
       "      <td>-0.025907</td>\n",
       "      <td>0.125475</td>\n",
       "      <td>0.136683</td>\n",
       "      <td>0.218765</td>\n",
       "    </tr>\n",
       "  </tbody>\n",
       "</table>\n",
       "</div>"
      ],
      "text/plain": [
       "          Ri_j      Ri_j      Ri_j      Ri_j\n",
       "Ri_j  0.074932  0.016453 -0.007063 -0.025907\n",
       "Ri_j  0.016453  0.386793  0.117408  0.125475\n",
       "Ri_j -0.007063  0.117408  0.213959  0.136683\n",
       "Ri_j -0.025907  0.125475  0.136683  0.218765"
      ]
     },
     "execution_count": 19,
     "metadata": {},
     "output_type": "execute_result"
    }
   ],
   "source": [
    "M"
   ]
  },
  {
   "cell_type": "code",
   "execution_count": 21,
   "id": "ad475651",
   "metadata": {},
   "outputs": [
    {
     "data": {
      "text/plain": [
       "array([[ 0.07493161,  0.01645338, -0.00706299, -0.0259072 ],\n",
       "       [ 0.01645338,  0.38679314,  0.11740771,  0.1254754 ],\n",
       "       [-0.00706299,  0.11740771,  0.21395927,  0.13668301],\n",
       "       [-0.0259072 ,  0.1254754 ,  0.13668301,  0.2187645 ]])"
      ]
     },
     "execution_count": 21,
     "metadata": {},
     "output_type": "execute_result"
    }
   ],
   "source": [
    "M.values"
   ]
  },
  {
   "cell_type": "markdown",
   "id": "690dd509",
   "metadata": {},
   "source": [
    "R_means and M will be used in the Python implementation of a set of gradient based optimization algorithms aiming to provide a solution to the problem of finding the percent of capital that needs to be invested in each of the branches, all while  maximizing performance and simutaneously minimizing the risk. "
   ]
  }
 ],
 "metadata": {
  "kernelspec": {
   "display_name": "Python 3 (ipykernel)",
   "language": "python",
   "name": "python3"
  },
  "language_info": {
   "codemirror_mode": {
    "name": "ipython",
    "version": 3
   },
   "file_extension": ".py",
   "mimetype": "text/x-python",
   "name": "python",
   "nbconvert_exporter": "python",
   "pygments_lexer": "ipython3",
   "version": "3.11.5"
  }
 },
 "nbformat": 4,
 "nbformat_minor": 5
}
