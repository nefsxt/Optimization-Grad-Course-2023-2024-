{
 "cells": [
  {
   "cell_type": "code",
   "execution_count": 6,
   "id": "f2b2283f",
   "metadata": {},
   "outputs": [],
   "source": [
    "import os\n",
    "import pandas as pd\n",
    "import numpy as np\n",
    "import matplotlib.pyplot as plt\n",
    "import seaborn as sns\n",
    "from scipy import stats"
   ]
  },
  {
   "cell_type": "code",
   "execution_count": 7,
   "id": "ecfbd8bb",
   "metadata": {},
   "outputs": [],
   "source": [
    "params_df = pd.read_excel(\"C:\\\\Users\\\\Nefeli\\\\Desktop\\\\opti2_stat_scripts\\\\pso_results\\\\pso_full.xlsx\")"
   ]
  },
  {
   "cell_type": "code",
   "execution_count": 12,
   "id": "dfb76f99",
   "metadata": {},
   "outputs": [
    {
     "data": {
      "text/html": [
       "<div>\n",
       "<style scoped>\n",
       "    .dataframe tbody tr th:only-of-type {\n",
       "        vertical-align: middle;\n",
       "    }\n",
       "\n",
       "    .dataframe tbody tr th {\n",
       "        vertical-align: top;\n",
       "    }\n",
       "\n",
       "    .dataframe thead th {\n",
       "        text-align: right;\n",
       "    }\n",
       "</style>\n",
       "<table border=\"1\" class=\"dataframe\">\n",
       "  <thead>\n",
       "    <tr style=\"text-align: right;\">\n",
       "      <th></th>\n",
       "      <th>nb_r</th>\n",
       "      <th>N</th>\n",
       "      <th>costVal_median</th>\n",
       "      <th>lastHit_median</th>\n",
       "    </tr>\n",
       "  </thead>\n",
       "  <tbody>\n",
       "    <tr>\n",
       "      <th>0</th>\n",
       "      <td>0</td>\n",
       "      <td>50</td>\n",
       "      <td>432.035678</td>\n",
       "      <td>90262</td>\n",
       "    </tr>\n",
       "    <tr>\n",
       "      <th>1</th>\n",
       "      <td>0</td>\n",
       "      <td>100</td>\n",
       "      <td>424.942921</td>\n",
       "      <td>104769</td>\n",
       "    </tr>\n",
       "    <tr>\n",
       "      <th>2</th>\n",
       "      <td>0</td>\n",
       "      <td>200</td>\n",
       "      <td>423.887200</td>\n",
       "      <td>84060</td>\n",
       "    </tr>\n",
       "    <tr>\n",
       "      <th>3</th>\n",
       "      <td>5</td>\n",
       "      <td>50</td>\n",
       "      <td>428.101784</td>\n",
       "      <td>103317</td>\n",
       "    </tr>\n",
       "    <tr>\n",
       "      <th>4</th>\n",
       "      <td>5</td>\n",
       "      <td>100</td>\n",
       "      <td>422.542661</td>\n",
       "      <td>116953</td>\n",
       "    </tr>\n",
       "    <tr>\n",
       "      <th>5</th>\n",
       "      <td>5</td>\n",
       "      <td>200</td>\n",
       "      <td>413.673383</td>\n",
       "      <td>159847</td>\n",
       "    </tr>\n",
       "  </tbody>\n",
       "</table>\n",
       "</div>"
      ],
      "text/plain": [
       "   nb_r    N  costVal_median  lastHit_median\n",
       "0     0   50      432.035678           90262\n",
       "1     0  100      424.942921          104769\n",
       "2     0  200      423.887200           84060\n",
       "3     5   50      428.101784          103317\n",
       "4     5  100      422.542661          116953\n",
       "5     5  200      413.673383          159847"
      ]
     },
     "execution_count": 12,
     "metadata": {},
     "output_type": "execute_result"
    }
   ],
   "source": [
    "minimized_df = params_df.copy(deep=True)\n",
    "to_drop = ['expID_list', 'costVal_list', 'lastHit_list','feasibility_list',\n",
    "          'costVal_mean', 'lastHit_mean','feasibility_mean','feasibility_median',\n",
    "          'costVal_std', 'lastHit_std','feasibility_std',\n",
    "          'costVal_min', 'lastHit_min','feasibility_min',\n",
    "          'costVal_max', 'lastHit_max','feasibility_max']\n",
    "minimized_df.drop(to_drop, axis=1, inplace=True)\n",
    "minimized_df"
   ]
  },
  {
   "cell_type": "markdown",
   "id": "9afe9dbd",
   "metadata": {},
   "source": [
    "Helper Functions"
   ]
  },
  {
   "cell_type": "code",
   "execution_count": 13,
   "id": "10c760cb",
   "metadata": {},
   "outputs": [],
   "source": [
    "#isolates data that corresponds to a file \n",
    "#and gets the median result for the column defined as input, for each parametrization\n",
    "def getMediansOf(minimized_df,columnName):\n",
    "    outputList=[]\n",
    "    for i in range(1):\n",
    "        subDf = minimized_df\n",
    "        resPerFile=[]\n",
    "        for j in range(6):\n",
    "            resPerFile.append(subDf.iat[j, subDf.columns.get_loc(columnName)])\n",
    "        outputList.append(resPerFile)\n",
    "    return outputList"
   ]
  },
  {
   "cell_type": "markdown",
   "id": "9daf44e2",
   "metadata": {},
   "source": [
    "### Wilcoxon on Cost Value Medians "
   ]
  },
  {
   "cell_type": "code",
   "execution_count": 16,
   "id": "ad498d9c",
   "metadata": {},
   "outputs": [
    {
     "data": {
      "text/html": [
       "<div>\n",
       "<style scoped>\n",
       "    .dataframe tbody tr th:only-of-type {\n",
       "        vertical-align: middle;\n",
       "    }\n",
       "\n",
       "    .dataframe tbody tr th {\n",
       "        vertical-align: top;\n",
       "    }\n",
       "\n",
       "    .dataframe thead th {\n",
       "        text-align: right;\n",
       "    }\n",
       "</style>\n",
       "<table border=\"1\" class=\"dataframe\">\n",
       "  <thead>\n",
       "    <tr style=\"text-align: right;\">\n",
       "      <th></th>\n",
       "      <th>(0,50)</th>\n",
       "      <th>(0,100)</th>\n",
       "      <th>(0,200)</th>\n",
       "      <th>(5,50)</th>\n",
       "      <th>(5,100)</th>\n",
       "      <th>(5,200)</th>\n",
       "    </tr>\n",
       "  </thead>\n",
       "  <tbody>\n",
       "    <tr>\n",
       "      <th>0</th>\n",
       "      <td>432.035678</td>\n",
       "      <td>424.942921</td>\n",
       "      <td>423.8872</td>\n",
       "      <td>428.101784</td>\n",
       "      <td>422.542661</td>\n",
       "      <td>413.673383</td>\n",
       "    </tr>\n",
       "  </tbody>\n",
       "</table>\n",
       "</div>"
      ],
      "text/plain": [
       "       (0,50)     (0,100)   (0,200)      (5,50)     (5,100)     (5,200)\n",
       "0  432.035678  424.942921  423.8872  428.101784  422.542661  413.673383"
      ]
     },
     "execution_count": 16,
     "metadata": {},
     "output_type": "execute_result"
    }
   ],
   "source": [
    "costValList = getMediansOf(minimized_df,'costVal_median')\n",
    "\n",
    "outdfC = pd.DataFrame(costValList,columns=['(0,50)','(0,100)','(0,200)','(5,50)','(5,100)','(5,200)'],index=['0'])\n",
    "outdfC"
   ]
  },
  {
   "cell_type": "code",
   "execution_count": 17,
   "id": "12bc84fd",
   "metadata": {},
   "outputs": [
    {
     "name": "stdout",
     "output_type": "stream",
     "text": [
      "\\begin{tabular}{|c|c|c|c|c|}\n",
      "\\toprule\n",
      "(0,50) & (0,100) & (0,200) & (5,50) & (5,100) & (5,200) \\\\\n",
      "\\midrule\n",
      "432.035678 & 424.942921 & 423.887200 & 428.101784 & 422.542661 & 413.673383 \\\\\n",
      "\\bottomrule\n",
      "\\end{tabular}\n",
      "\n"
     ]
    }
   ],
   "source": [
    "latex_table = outdfC.to_latex(\n",
    "    index=False,        # Exclude row indices\n",
    "    column_format='|c|c|c|c|c|c|c|',  # Specify column formatting\n",
    "    escape=False        # Disable LaTeX escaping of special characters\n",
    ")\n",
    "\n",
    "# Print the LaTeX table or save it to a .tex file\n",
    "print(latex_table)"
   ]
  },
  {
   "cell_type": "code",
   "execution_count": 19,
   "id": "d28c61b7",
   "metadata": {},
   "outputs": [
    {
     "name": "stdout",
     "output_type": "stream",
     "text": [
      "['(0,50)', '(0,100)', '(0,200)', '(5,50)', '(5,100)', '(5,200)']\n",
      "(0,50)[10.  1.  1.  1.  1.  1.]\n",
      "(0,100)[ 1. 10.  1.  1.  1.  1.]\n",
      "(0,200)[ 1.  1. 10.  1.  1.  1.]\n",
      "(5,50)[ 1.  1.  1. 10.  1.  1.]\n",
      "(5,100)[ 1.  1.  1.  1. 10.  1.]\n",
      "(5,200)[ 1.  1.  1.  1.  1. 10.]\n",
      "[[0. 0. 0. 0. 0. 0.]\n",
      " [0. 0. 0. 0. 0. 0.]\n",
      " [0. 0. 0. 0. 0. 0.]\n",
      " [0. 0. 0. 0. 0. 0.]\n",
      " [0. 0. 0. 0. 0. 0.]\n",
      " [0. 0. 0. 0. 0. 0.]]\n"
     ]
    }
   ],
   "source": [
    "pVal_matrix_costVals = np.zeros((6,6))\n",
    "H0_rej_matrix_costVals = np.zeros((6,6))\n",
    "p = ['(0,50)','(0,100)','(0,200)','(5,50)','(5,100)','(5,200)']\n",
    "for i in range(6):\n",
    "    current = outdfC[p[i]].values\n",
    "    for j in range(6):\n",
    "        if i==j:\n",
    "            #necessary step because \n",
    "            pVal_matrix_costVals[i][j]= 10 # a pvalue cannot take a value of 10 \n",
    "        else:\n",
    "            statistic,pvalue = stats.wilcoxon(current,outdfC[p[j]].values, alternative='two-sided')\n",
    "            pVal_matrix_costVals[i][j]=pvalue\n",
    "\n",
    "print(p)\n",
    "for i in range(6):\n",
    "    print(str(p[i])+str(pVal_matrix_costVals[i][:]))\n",
    "    \n",
    "for i in range(6):\n",
    "    for j in range(6):\n",
    "        if pVal_matrix_costVals[i][j]<0.05:\n",
    "            H0_rej_matrix_costVals[i][j]= 1\n",
    "print(H0_rej_matrix_costVals)  "
   ]
  },
  {
   "cell_type": "markdown",
   "id": "44c25e6b",
   "metadata": {},
   "source": [
    "### Wilcoxon on Last Hit"
   ]
  },
  {
   "cell_type": "code",
   "execution_count": 22,
   "id": "948e7bf4",
   "metadata": {},
   "outputs": [
    {
     "data": {
      "text/html": [
       "<div>\n",
       "<style scoped>\n",
       "    .dataframe tbody tr th:only-of-type {\n",
       "        vertical-align: middle;\n",
       "    }\n",
       "\n",
       "    .dataframe tbody tr th {\n",
       "        vertical-align: top;\n",
       "    }\n",
       "\n",
       "    .dataframe thead th {\n",
       "        text-align: right;\n",
       "    }\n",
       "</style>\n",
       "<table border=\"1\" class=\"dataframe\">\n",
       "  <thead>\n",
       "    <tr style=\"text-align: right;\">\n",
       "      <th></th>\n",
       "      <th>(0,50)</th>\n",
       "      <th>(0,100)</th>\n",
       "      <th>(0,200)</th>\n",
       "      <th>(5,50)</th>\n",
       "      <th>(5,100)</th>\n",
       "      <th>(5,200)</th>\n",
       "    </tr>\n",
       "  </thead>\n",
       "  <tbody>\n",
       "    <tr>\n",
       "      <th>0</th>\n",
       "      <td>90262</td>\n",
       "      <td>104769</td>\n",
       "      <td>84060</td>\n",
       "      <td>103317</td>\n",
       "      <td>116953</td>\n",
       "      <td>159847</td>\n",
       "    </tr>\n",
       "  </tbody>\n",
       "</table>\n",
       "</div>"
      ],
      "text/plain": [
       "   (0,50)  (0,100)  (0,200)  (5,50)  (5,100)  (5,200)\n",
       "0   90262   104769    84060  103317   116953   159847"
      ]
     },
     "execution_count": 22,
     "metadata": {},
     "output_type": "execute_result"
    }
   ],
   "source": [
    "lastHitList = getMediansOf(minimized_df,'lastHit_median')\n",
    "\n",
    "outdfL = pd.DataFrame(lastHitList,columns=['(0,50)','(0,100)','(0,200)','(5,50)','(5,100)','(5,200)'],index=['0'])\n",
    "outdfL"
   ]
  },
  {
   "cell_type": "code",
   "execution_count": 23,
   "id": "2b637f74",
   "metadata": {},
   "outputs": [
    {
     "name": "stdout",
     "output_type": "stream",
     "text": [
      "\\begin{tabular}{|c|c|c|c|c|c|c|}\n",
      "\\toprule\n",
      "(0,50) & (0,100) & (0,200) & (5,50) & (5,100) & (5,200) \\\\\n",
      "\\midrule\n",
      "90262 & 104769 & 84060 & 103317 & 116953 & 159847 \\\\\n",
      "\\bottomrule\n",
      "\\end{tabular}\n",
      "\n"
     ]
    }
   ],
   "source": [
    "latex_table = outdfL.to_latex(\n",
    "    index=False,        # Exclude row indices\n",
    "    column_format='|c|c|c|c|c|c|c|',  # Specify column formatting\n",
    "    escape=False        # Disable LaTeX escaping of special characters\n",
    ")\n",
    "\n",
    "# Print the LaTeX table or save it to a .tex file\n",
    "print(latex_table)"
   ]
  },
  {
   "cell_type": "code",
   "execution_count": 25,
   "id": "40c458e1",
   "metadata": {},
   "outputs": [
    {
     "name": "stdout",
     "output_type": "stream",
     "text": [
      "['(0,50)', '(0,100)', '(0,200)', '(5,50)', '(5,100)', '(5,200)']\n",
      "(0,50)[10.  1.  1.  1.  1.  1.]\n",
      "(0,100)[ 1. 10.  1.  1.  1.  1.]\n",
      "(0,200)[ 1.  1. 10.  1.  1.  1.]\n",
      "(5,50)[ 1.  1.  1. 10.  1.  1.]\n",
      "(5,100)[ 1.  1.  1.  1. 10.  1.]\n",
      "(5,200)[ 1.  1.  1.  1.  1. 10.]\n",
      "[[0. 0. 0. 0. 0. 0.]\n",
      " [0. 0. 0. 0. 0. 0.]\n",
      " [0. 0. 0. 0. 0. 0.]\n",
      " [0. 0. 0. 0. 0. 0.]\n",
      " [0. 0. 0. 0. 0. 0.]\n",
      " [0. 0. 0. 0. 0. 0.]]\n"
     ]
    }
   ],
   "source": [
    "pVal_matrix_lastHit = np.zeros((6,6))\n",
    "H0_rej_matrix_lastHit = np.zeros((6,6))\n",
    "p = ['(0,50)','(0,100)','(0,200)','(5,50)','(5,100)','(5,200)']\n",
    "for i in range(6):\n",
    "    current = outdfL[p[i]].values\n",
    "    for j in range(6):\n",
    "        if i==j:\n",
    "            #necessary step because \n",
    "            pVal_matrix_lastHit[i][j]= 10 # a pvalue cannot take a value of 10 \n",
    "        else:\n",
    "            statistic,pvalue = stats.wilcoxon(current,outdfL[p[j]].values, alternative='two-sided')\n",
    "            pVal_matrix_lastHit[i][j]=pvalue\n",
    "\n",
    "print(p)\n",
    "for i in range(6):\n",
    "    print(str(p[i])+str(pVal_matrix_lastHit[i][:]))\n",
    "    \n",
    "for i in range(6):\n",
    "    for j in range(6):\n",
    "        if pVal_matrix_lastHit[i][j]<0.05:\n",
    "            H0_rej_matrix_lastHit[i][j]= 1\n",
    "print(H0_rej_matrix_lastHit)"
   ]
  },
  {
   "cell_type": "code",
   "execution_count": null,
   "id": "1e40e00d",
   "metadata": {},
   "outputs": [],
   "source": []
  }
 ],
 "metadata": {
  "kernelspec": {
   "display_name": "Python 3 (ipykernel)",
   "language": "python",
   "name": "python3"
  },
  "language_info": {
   "codemirror_mode": {
    "name": "ipython",
    "version": 3
   },
   "file_extension": ".py",
   "mimetype": "text/x-python",
   "name": "python",
   "nbconvert_exporter": "python",
   "pygments_lexer": "ipython3",
   "version": "3.11.5"
  }
 },
 "nbformat": 4,
 "nbformat_minor": 5
}
