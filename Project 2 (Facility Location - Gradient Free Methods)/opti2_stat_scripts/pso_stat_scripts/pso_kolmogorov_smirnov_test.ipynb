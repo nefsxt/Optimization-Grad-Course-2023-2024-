{
 "cells": [
  {
   "cell_type": "code",
   "execution_count": 1,
   "id": "a6c19a09",
   "metadata": {},
   "outputs": [],
   "source": [
    "import os\n",
    "import pandas as pd\n",
    "import numpy as np\n",
    "import matplotlib.pyplot as plt\n",
    "import seaborn as sns\n",
    "from scipy import stats"
   ]
  },
  {
   "cell_type": "code",
   "execution_count": 2,
   "id": "ab6a7e51",
   "metadata": {},
   "outputs": [],
   "source": [
    "params_df = pd.read_excel(\"C:\\\\Users\\\\Nefeli\\\\Desktop\\\\opti2_stat_scripts\\\\pso_results\\\\pso_full.xlsx\")"
   ]
  },
  {
   "cell_type": "code",
   "execution_count": 3,
   "id": "e3ebb789",
   "metadata": {},
   "outputs": [],
   "source": [
    "def excelListCleanup(inputDfRow):\n",
    "    toClean = inputDfRow\n",
    "    toRemove=['[',']','\\n'] \n",
    "    for i in toRemove:\n",
    "        toClean = toClean.replace(i,'')\n",
    "    toClean = toClean.split(' ')\n",
    "    toClean = [i for i in toClean if i!='']\n",
    "    toClean = [float(i)for i in toClean]\n",
    "    #print(toClean)\n",
    "    return toClean\n",
    "#params_df.iat[65, params_df.columns.get_loc('costVal_list')]\n",
    "#print(excelListCleanup(params_df.iat[65, params_df.columns.get_loc('costVal_list')]))"
   ]
  },
  {
   "cell_type": "code",
   "execution_count": 4,
   "id": "8ec0cb21",
   "metadata": {},
   "outputs": [],
   "source": [
    "params_df.costVal_list = params_df.costVal_list.apply(lambda x : excelListCleanup(x))\n",
    "params_df.feasibility_list = params_df.feasibility_list.apply(lambda x : excelListCleanup(x))\n",
    "params_df.lastHit_list = params_df.lastHit_list.apply(lambda x : excelListCleanup(x))"
   ]
  },
  {
   "cell_type": "markdown",
   "id": "630cfad1",
   "metadata": {},
   "source": [
    "Helper Functions"
   ]
  },
  {
   "cell_type": "code",
   "execution_count": 5,
   "id": "613e0e61",
   "metadata": {},
   "outputs": [],
   "source": [
    "from scipy import stats\n",
    "\n",
    "def kolmogorovSmirnovTailed(F,G,alternative, a):\n",
    "    result = stats.ks_2samp(F,G,alternative)\n",
    "    #compare the p value with the significance level a\n",
    "    if result[1]<a:\n",
    "        return 1  #null hypothesis REJECTED -> cdf(F)>cdf(G)\n",
    "    else:\n",
    "        return 0  #null hypothesis RETAINED -> cdf(F)<=cdf(G)"
   ]
  },
  {
   "cell_type": "code",
   "execution_count": 6,
   "id": "de267fea",
   "metadata": {},
   "outputs": [],
   "source": [
    "def kolmogorovSmirnovComparison(params_df,n,columnName,alternative,a):\n",
    "    kolmogorov_smirnov_matrix = np.zeros((n,n))\n",
    "    subDf = params_df.copy()\n",
    "    for i in range(n):\n",
    "        for j in range(n):\n",
    "            scoreVal = kolmogorovSmirnovTailed(subDf.iat[i, subDf.columns.get_loc(columnName)],\n",
    "                                               subDf.iat[j, subDf.columns.get_loc(columnName)],\n",
    "                                               alternative,a)\n",
    "            kolmogorov_smirnov_matrix[i,j] = scoreVal\n",
    "            #if scoreVal == 1:\n",
    "            #    kolmogorov_smirnov_matrix[i,j] = 1\n",
    "            #else:\n",
    "            #    kolmogorov_smirnov_matrix[i,j] = 0\n",
    "    scoreList = []\n",
    "    for i in range(n):\n",
    "        scoreList.append(np.sum(kolmogorov_smirnov_matrix[i]))\n",
    "    return np.array(scoreList)"
   ]
  },
  {
   "cell_type": "code",
   "execution_count": 7,
   "id": "3e211a64",
   "metadata": {},
   "outputs": [
    {
     "data": {
      "text/html": [
       "<div>\n",
       "<style scoped>\n",
       "    .dataframe tbody tr th:only-of-type {\n",
       "        vertical-align: middle;\n",
       "    }\n",
       "\n",
       "    .dataframe tbody tr th {\n",
       "        vertical-align: top;\n",
       "    }\n",
       "\n",
       "    .dataframe thead th {\n",
       "        text-align: right;\n",
       "    }\n",
       "</style>\n",
       "<table border=\"1\" class=\"dataframe\">\n",
       "  <thead>\n",
       "    <tr style=\"text-align: right;\">\n",
       "      <th></th>\n",
       "      <th>nb_r</th>\n",
       "      <th>N</th>\n",
       "    </tr>\n",
       "  </thead>\n",
       "  <tbody>\n",
       "    <tr>\n",
       "      <th>0</th>\n",
       "      <td>0</td>\n",
       "      <td>50</td>\n",
       "    </tr>\n",
       "    <tr>\n",
       "      <th>1</th>\n",
       "      <td>0</td>\n",
       "      <td>100</td>\n",
       "    </tr>\n",
       "    <tr>\n",
       "      <th>2</th>\n",
       "      <td>0</td>\n",
       "      <td>200</td>\n",
       "    </tr>\n",
       "    <tr>\n",
       "      <th>3</th>\n",
       "      <td>5</td>\n",
       "      <td>50</td>\n",
       "    </tr>\n",
       "    <tr>\n",
       "      <th>4</th>\n",
       "      <td>5</td>\n",
       "      <td>100</td>\n",
       "    </tr>\n",
       "    <tr>\n",
       "      <th>5</th>\n",
       "      <td>5</td>\n",
       "      <td>200</td>\n",
       "    </tr>\n",
       "  </tbody>\n",
       "</table>\n",
       "</div>"
      ],
      "text/plain": [
       "   nb_r    N\n",
       "0     0   50\n",
       "1     0  100\n",
       "2     0  200\n",
       "3     5   50\n",
       "4     5  100\n",
       "5     5  200"
      ]
     },
     "execution_count": 7,
     "metadata": {},
     "output_type": "execute_result"
    }
   ],
   "source": [
    "paramOrder_df = params_df[['nb_r','N']]\n",
    "paramOrder_df"
   ]
  },
  {
   "cell_type": "code",
   "execution_count": 8,
   "id": "9a334f9d",
   "metadata": {},
   "outputs": [],
   "source": [
    "allScores=[]\n",
    "n=6"
   ]
  },
  {
   "cell_type": "markdown",
   "id": "bb19d61e",
   "metadata": {},
   "source": [
    "### Kolmogorov Smirnov Ranking Based on costVals"
   ]
  },
  {
   "cell_type": "code",
   "execution_count": 9,
   "id": "00ff4bf5",
   "metadata": {},
   "outputs": [
    {
     "data": {
      "text/plain": [
       "[0.0, 1.0, 1.0, 0.0, 1.0, 5.0]"
      ]
     },
     "execution_count": 9,
     "metadata": {},
     "output_type": "execute_result"
    }
   ],
   "source": [
    "performace_per_file_matrix = np.zeros((n,1))\n",
    "\n",
    "for i in range(1):\n",
    "    x=kolmogorovSmirnovComparison(params_df,6,'costVal_list','greater',0.05)\n",
    "    performace_per_file_matrix[:,i] = x \n",
    "\n",
    "costValScores=6*[0]\n",
    "for i in range(6):\n",
    "    costValScores[i] = np.sum(performace_per_file_matrix[i,:])\n",
    "allScores.append(costValScores)\n",
    "costValScores"
   ]
  },
  {
   "cell_type": "code",
   "execution_count": 10,
   "id": "0d3fc16f",
   "metadata": {},
   "outputs": [
    {
     "name": "stdout",
     "output_type": "stream",
     "text": [
      "max idx (winner params) = 5\n"
     ]
    },
    {
     "data": {
      "text/plain": [
       "nb_r      5\n",
       "N       200\n",
       "Name: 5, dtype: int64"
      ]
     },
     "execution_count": 10,
     "metadata": {},
     "output_type": "execute_result"
    }
   ],
   "source": [
    "max_index = np.argmax(costValScores)\n",
    "print(\"max idx (winner params) = \" + str(max_index))\n",
    "paramOrder_df.iloc[max_index]"
   ]
  },
  {
   "cell_type": "markdown",
   "id": "e2194c9d",
   "metadata": {},
   "source": [
    "### Kolmogorov Smirnov Ranking Based on lastHit"
   ]
  },
  {
   "cell_type": "code",
   "execution_count": 11,
   "id": "54b3fd08",
   "metadata": {},
   "outputs": [
    {
     "data": {
      "text/plain": [
       "[2.0, 1.0, 4.0, 1.0, 1.0, 0.0]"
      ]
     },
     "execution_count": 11,
     "metadata": {},
     "output_type": "execute_result"
    }
   ],
   "source": [
    "performace_per_file_matrix = np.zeros((n,1))\n",
    "\n",
    "for i in range(1):\n",
    "    x=kolmogorovSmirnovComparison(params_df,6,'lastHit_list','greater',0.05)\n",
    "    performace_per_file_matrix[:,i] = x \n",
    "\n",
    "lastHitScores=6*[0]\n",
    "for i in range(6):\n",
    "    lastHitScores[i] = np.sum(performace_per_file_matrix[i,:])\n",
    "allScores.append(lastHitScores)\n",
    "lastHitScores"
   ]
  },
  {
   "cell_type": "code",
   "execution_count": 12,
   "id": "2bc0ce8f",
   "metadata": {},
   "outputs": [
    {
     "name": "stdout",
     "output_type": "stream",
     "text": [
      "max idx (winner params) = 2\n"
     ]
    },
    {
     "data": {
      "text/plain": [
       "nb_r      0\n",
       "N       200\n",
       "Name: 2, dtype: int64"
      ]
     },
     "execution_count": 12,
     "metadata": {},
     "output_type": "execute_result"
    }
   ],
   "source": [
    "max_index = np.argmax(lastHitScores)\n",
    "print(\"max idx (winner params) = \" + str(max_index))\n",
    "paramOrder_df.iloc[max_index]"
   ]
  },
  {
   "cell_type": "code",
   "execution_count": 13,
   "id": "7a1dbe15",
   "metadata": {},
   "outputs": [
    {
     "name": "stdout",
     "output_type": "stream",
     "text": [
      "[0.0, 1.0, 1.0, 0.0, 1.0, 5.0]\n",
      "[2.0, 1.0, 4.0, 1.0, 1.0, 0.0]\n"
     ]
    }
   ],
   "source": [
    "for i in allScores:\n",
    "    print(i)"
   ]
  },
  {
   "cell_type": "markdown",
   "id": "6b6282be",
   "metadata": {},
   "source": [
    "### Notes on KS Test:"
   ]
  },
  {
   "cell_type": "markdown",
   "id": "df919b38",
   "metadata": {},
   "source": [
    "<br>The desired comparison result is to find the parametrizations that achieve a smaller costVal and lastHit. </br> \n",
    "\n",
    "<br>Python is being used to achieve this, so we have the option of chooseing the 'alternative' parameter which defines the alternative hypothesis H1.</br>\n",
    "\n",
    "<br>Since we want to find the parametrizations with smaller values, we need to choose the option 'greater' in order to define the alternative hypothesis H1 as : parametrization P_a minimizes better than parametrization P_b. The cdf of parametrization P_a is expected to be larger compared to the cdf of parametrization P_b (P_a > P_b)<br>\n",
    "<br>The null hypohtesis is H0: The cdf of parametrization P_a is expected to be smaller or equal to the cdf of parametrization P_b (P_a <= P_b)</br>\n",
    "\n",
    "<br>MATLAB Documentation Explanation : \"If the data values in x1 tend to be larger than those in x2, the empirical distribution function of x1 tends to be smaller than that of x2, and vice versa.\"</br>\n",
    "<br>Python Documentation Explanation: \"Suppose, however, that the first sample were drawn from a normal distribution shifted toward greater values. In this case, the cumulative density function (CDF) of the underlying distribution tends to be less than the CDF underlying the second sample. Therefore, we would expect the null hypothesis to be rejected with alternative='less' \"</br>\n",
    "<br>According to the above, it is my understanding that if I have Sample1 with values greater than values of Sample2, and want to prove that relationship, if I want an H0 rejection I need to test for H1 = 'less' (or 'smaller' in MATLAB). The desired outcome is the rejection of H0 : the cdf of Sample1 is >= the cdf of Sample2. </br>\n",
    "<br>If I am examining the opposite case, where I want to prove that the values of Sample1<Sample2, I would need to choose H1 = 'greater' (or 'larger' in MATLAB). In this scenario I expect the cdf of Sample1 to be greater than the cdf of Sample2, so I need to reject a null hypothesis where the cdf of Sample1<= the cdf of Sample2.</br>\n",
    "<br>For each case, all 6 parametrizations are compared to each other and that results in a final score list that contains the sum on ones (Null Hypothesis Rejections) each has amassed.</br>\n",
    "<br>Adding up the score each parametrization achieves for each case results in a total score.</br>\n",
    "<br>The one with the highest score is the best one. Of course, ties may occur.</br>"
   ]
  },
  {
   "cell_type": "code",
   "execution_count": null,
   "id": "390041e9",
   "metadata": {},
   "outputs": [],
   "source": []
  }
 ],
 "metadata": {
  "kernelspec": {
   "display_name": "Python 3 (ipykernel)",
   "language": "python",
   "name": "python3"
  },
  "language_info": {
   "codemirror_mode": {
    "name": "ipython",
    "version": 3
   },
   "file_extension": ".py",
   "mimetype": "text/x-python",
   "name": "python",
   "nbconvert_exporter": "python",
   "pygments_lexer": "ipython3",
   "version": "3.11.5"
  }
 },
 "nbformat": 4,
 "nbformat_minor": 5
}
