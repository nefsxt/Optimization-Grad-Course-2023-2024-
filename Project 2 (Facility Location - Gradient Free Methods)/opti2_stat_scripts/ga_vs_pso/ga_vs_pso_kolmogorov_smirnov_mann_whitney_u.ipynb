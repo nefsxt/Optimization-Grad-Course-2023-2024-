{
 "cells": [
  {
   "cell_type": "code",
   "execution_count": 1,
   "id": "3ff542c9",
   "metadata": {},
   "outputs": [],
   "source": [
    "import os\n",
    "import pandas as pd\n",
    "import numpy as np\n",
    "import matplotlib.pyplot as plt\n",
    "import seaborn as sns\n",
    "from scipy import stats"
   ]
  },
  {
   "cell_type": "code",
   "execution_count": 2,
   "id": "bb0954d3",
   "metadata": {},
   "outputs": [],
   "source": [
    "pso_df = pd.read_excel(\"C:\\\\Users\\\\Nefeli\\\\Desktop\\\\opti2_stat_scripts\\\\pso_results\\\\pso_full.xlsx\")\n",
    "ga_df = pd.read_excel(\"C:\\\\Users\\\\Nefeli\\\\Desktop\\\\opti2_stat_scripts\\\\ga_results\\\\ga_full.xlsx\")"
   ]
  },
  {
   "cell_type": "code",
   "execution_count": 3,
   "id": "2f1799b6",
   "metadata": {},
   "outputs": [],
   "source": [
    "def excelListCleanup(inputDfRow):\n",
    "    toClean = inputDfRow\n",
    "    toRemove=['[',']','\\n'] \n",
    "    for i in toRemove:\n",
    "        toClean = toClean.replace(i,'')\n",
    "    toClean = toClean.split(' ')\n",
    "    toClean = [i for i in toClean if i!='']\n",
    "    toClean = [float(i)for i in toClean]\n",
    "    #print(toClean)\n",
    "    return toClean\n",
    "#params_df.iat[65, params_df.columns.get_loc('costVal_list')]\n",
    "#print(excelListCleanup(params_df.iat[65, params_df.columns.get_loc('costVal_list')]))"
   ]
  },
  {
   "cell_type": "code",
   "execution_count": 4,
   "id": "7d40f7b3",
   "metadata": {},
   "outputs": [],
   "source": [
    "pso_df.costVal_list = pso_df.costVal_list.apply(lambda x : excelListCleanup(x))\n",
    "pso_df.feasibility_list = pso_df.feasibility_list.apply(lambda x : excelListCleanup(x))\n",
    "pso_df.lastHit_list = pso_df.lastHit_list.apply(lambda x : excelListCleanup(x))\n",
    "\n",
    "ga_df.costVal_list = ga_df.costVal_list.apply(lambda x : excelListCleanup(x))\n",
    "ga_df.feasibility_list = ga_df.feasibility_list.apply(lambda x : excelListCleanup(x))\n",
    "ga_df.lastHit_list = ga_df.lastHit_list.apply(lambda x : excelListCleanup(x))"
   ]
  },
  {
   "cell_type": "code",
   "execution_count": 5,
   "id": "12bd91b8",
   "metadata": {},
   "outputs": [],
   "source": [
    "best_pso = pso_df[(pso_df['nb_r'] == 5) & (pso_df['N'] == 200)]"
   ]
  },
  {
   "cell_type": "code",
   "execution_count": 6,
   "id": "56f4ffd6",
   "metadata": {},
   "outputs": [],
   "source": [
    "best_ga = ga_df[(ga_df['select_op'] == 25) & (ga_df['N'] == 200)]"
   ]
  },
  {
   "cell_type": "code",
   "execution_count": 7,
   "id": "e17d73c4",
   "metadata": {},
   "outputs": [],
   "source": [
    "def kolmogorovSmirnovTailed(F,G,alternative, a):\n",
    "    result = stats.ks_2samp(F,G,alternative)\n",
    "    #compare the p value with the significance level a\n",
    "    if result[1]<a:\n",
    "        return 1  #null hypothesis REJECTED -> cdf(F)>cdf(G)\n",
    "    else:\n",
    "        return 0  #null hypothesis RETAINED -> cdf(F)<=cdf(G)"
   ]
  },
  {
   "cell_type": "code",
   "execution_count": 12,
   "id": "ab7b2b3a",
   "metadata": {},
   "outputs": [
    {
     "name": "stdout",
     "output_type": "stream",
     "text": [
      "KS Test PSO vs GA score (cost val):  0\n",
      "KS Test GA vs PSO score (cost val):  1\n"
     ]
    }
   ],
   "source": [
    "print(\"KS Test PSO vs GA score (cost val): \",kolmogorovSmirnovTailed(best_pso.costVal_list.values[0],best_ga.costVal_list.values[0],'greater',0.05)) \n",
    "print(\"KS Test GA vs PSO score (cost val): \",kolmogorovSmirnovTailed(best_ga.costVal_list.values[0],best_pso.costVal_list.values[0],'greater',0.05))"
   ]
  },
  {
   "cell_type": "code",
   "execution_count": 13,
   "id": "16843ba8",
   "metadata": {},
   "outputs": [
    {
     "name": "stdout",
     "output_type": "stream",
     "text": [
      "KS Test PSO vs GA score (last hit):  0\n",
      "KS Test GA vs PSO score (last hit):  0\n"
     ]
    }
   ],
   "source": [
    "print(\"KS Test PSO vs GA score (last hit): \",kolmogorovSmirnovTailed(best_pso.lastHit_list.values[0],best_ga.lastHit_list.values[0],'greater',0.05)) \n",
    "print(\"KS Test GA vs PSO score (last hit): \",kolmogorovSmirnovTailed(best_ga.lastHit_list.values[0],best_pso.lastHit_list.values[0],'greater',0.05))"
   ]
  },
  {
   "cell_type": "markdown",
   "id": "7d3d1b8b",
   "metadata": {},
   "source": [
    "### Wilcoxon Rank Sum Test aka Mann Whitney U test "
   ]
  },
  {
   "cell_type": "code",
   "execution_count": 15,
   "id": "d45a4666",
   "metadata": {},
   "outputs": [
    {
     "name": "stdout",
     "output_type": "stream",
     "text": [
      "Wilcoxon Rank Sum Test Statistic: 4.045494225606034\n",
      "P-value: 5.221285277796408e-05\n",
      "H0 Rejection: True\n"
     ]
    }
   ],
   "source": [
    "from scipy.stats import ranksums\n",
    "# Perform Wilcoxon Rank Sum Test\n",
    "statistic, p_value = ranksums(best_pso.costVal_list.values[0],best_ga.costVal_list.values[0])\n",
    "\n",
    "# Print the test statistic and p-value\n",
    "print(\"Wilcoxon Rank Sum Test (Cost Values)\")\n",
    "print(\"P-value:\", p_value)\n",
    "print(\"H0 Rejection:\", p_value<0.05)"
   ]
  },
  {
   "cell_type": "code",
   "execution_count": 18,
   "id": "bcc57958",
   "metadata": {},
   "outputs": [
    {
     "name": "stdout",
     "output_type": "stream",
     "text": [
      "Wilcoxon Rank Sum Test (Last Hit)\n",
      "P-value: 0.3567187999388043\n",
      "H0 Rejection: False\n"
     ]
    }
   ],
   "source": [
    "# Perform Wilcoxon Rank Sum Test\n",
    "statistic, p_value = ranksums(best_pso.lastHit_list.values[0],best_ga.lastHit_list.values[0])\n",
    "\n",
    "# Print the test statistic and p-value\n",
    "print(\"Wilcoxon Rank Sum Test (Last Hit)\")\n",
    "print(\"P-value:\", p_value)\n",
    "print(\"H0 Rejection:\", p_value<0.05)"
   ]
  },
  {
   "cell_type": "code",
   "execution_count": null,
   "id": "48f07b4e",
   "metadata": {},
   "outputs": [],
   "source": []
  }
 ],
 "metadata": {
  "kernelspec": {
   "display_name": "Python 3 (ipykernel)",
   "language": "python",
   "name": "python3"
  },
  "language_info": {
   "codemirror_mode": {
    "name": "ipython",
    "version": 3
   },
   "file_extension": ".py",
   "mimetype": "text/x-python",
   "name": "python",
   "nbconvert_exporter": "python",
   "pygments_lexer": "ipython3",
   "version": "3.11.5"
  }
 },
 "nbformat": 4,
 "nbformat_minor": 5
}
