{
 "cells": [
  {
   "cell_type": "code",
   "execution_count": 1,
   "id": "f2b2283f",
   "metadata": {},
   "outputs": [],
   "source": [
    "import os\n",
    "import pandas as pd\n",
    "import numpy as np\n",
    "import matplotlib.pyplot as plt\n",
    "import seaborn as sns\n",
    "from scipy import stats"
   ]
  },
  {
   "cell_type": "code",
   "execution_count": 2,
   "id": "ecfbd8bb",
   "metadata": {},
   "outputs": [],
   "source": [
    "params_df = pd.read_excel(\"C:\\\\Users\\\\Nefeli\\\\Desktop\\\\opti2_stat_scripts\\\\ga_results\\\\ga_full.xlsx\")"
   ]
  },
  {
   "cell_type": "code",
   "execution_count": 3,
   "id": "dfb76f99",
   "metadata": {},
   "outputs": [
    {
     "data": {
      "text/html": [
       "<div>\n",
       "<style scoped>\n",
       "    .dataframe tbody tr th:only-of-type {\n",
       "        vertical-align: middle;\n",
       "    }\n",
       "\n",
       "    .dataframe tbody tr th {\n",
       "        vertical-align: top;\n",
       "    }\n",
       "\n",
       "    .dataframe thead th {\n",
       "        text-align: right;\n",
       "    }\n",
       "</style>\n",
       "<table border=\"1\" class=\"dataframe\">\n",
       "  <thead>\n",
       "    <tr style=\"text-align: right;\">\n",
       "      <th></th>\n",
       "      <th>select_op</th>\n",
       "      <th>N</th>\n",
       "      <th>costVal_median</th>\n",
       "      <th>lastHit_median</th>\n",
       "    </tr>\n",
       "  </thead>\n",
       "  <tbody>\n",
       "    <tr>\n",
       "      <th>0</th>\n",
       "      <td>2</td>\n",
       "      <td>50</td>\n",
       "      <td>449.651135</td>\n",
       "      <td>6368</td>\n",
       "    </tr>\n",
       "    <tr>\n",
       "      <th>1</th>\n",
       "      <td>2</td>\n",
       "      <td>100</td>\n",
       "      <td>447.033719</td>\n",
       "      <td>16591</td>\n",
       "    </tr>\n",
       "    <tr>\n",
       "      <th>2</th>\n",
       "      <td>2</td>\n",
       "      <td>200</td>\n",
       "      <td>441.783015</td>\n",
       "      <td>24785</td>\n",
       "    </tr>\n",
       "    <tr>\n",
       "      <th>3</th>\n",
       "      <td>25</td>\n",
       "      <td>50</td>\n",
       "      <td>394.480284</td>\n",
       "      <td>158950</td>\n",
       "    </tr>\n",
       "    <tr>\n",
       "      <th>4</th>\n",
       "      <td>25</td>\n",
       "      <td>100</td>\n",
       "      <td>390.132807</td>\n",
       "      <td>173084</td>\n",
       "    </tr>\n",
       "    <tr>\n",
       "      <th>5</th>\n",
       "      <td>25</td>\n",
       "      <td>200</td>\n",
       "      <td>379.444482</td>\n",
       "      <td>158801</td>\n",
       "    </tr>\n",
       "  </tbody>\n",
       "</table>\n",
       "</div>"
      ],
      "text/plain": [
       "   select_op    N  costVal_median  lastHit_median\n",
       "0          2   50      449.651135            6368\n",
       "1          2  100      447.033719           16591\n",
       "2          2  200      441.783015           24785\n",
       "3         25   50      394.480284          158950\n",
       "4         25  100      390.132807          173084\n",
       "5         25  200      379.444482          158801"
      ]
     },
     "execution_count": 3,
     "metadata": {},
     "output_type": "execute_result"
    }
   ],
   "source": [
    "minimized_df = params_df.copy(deep=True)\n",
    "to_drop = ['expID_list', 'costVal_list', 'lastHit_list','feasibility_list',\n",
    "          'costVal_mean', 'lastHit_mean','feasibility_mean','feasibility_median',\n",
    "          'costVal_std', 'lastHit_std','feasibility_std',\n",
    "          'costVal_min', 'lastHit_min','feasibility_min',\n",
    "          'costVal_max', 'lastHit_max','feasibility_max']\n",
    "minimized_df.drop(to_drop, axis=1, inplace=True)\n",
    "minimized_df"
   ]
  },
  {
   "cell_type": "markdown",
   "id": "9afe9dbd",
   "metadata": {},
   "source": [
    "Helper Functions"
   ]
  },
  {
   "cell_type": "code",
   "execution_count": 4,
   "id": "10c760cb",
   "metadata": {},
   "outputs": [],
   "source": [
    "#isolates data that corresponds to a file \n",
    "#and gets the median result for the column defined as input, for each parametrization\n",
    "def getMediansOf(minimized_df,columnName):\n",
    "    outputList=[]\n",
    "    for i in range(1):\n",
    "        subDf = minimized_df\n",
    "        resPerFile=[]\n",
    "        for j in range(6):\n",
    "            resPerFile.append(subDf.iat[j, subDf.columns.get_loc(columnName)])\n",
    "        outputList.append(resPerFile)\n",
    "    return outputList"
   ]
  },
  {
   "cell_type": "markdown",
   "id": "9daf44e2",
   "metadata": {},
   "source": [
    "### Wilcoxon on Cost Value Medians "
   ]
  },
  {
   "cell_type": "code",
   "execution_count": 5,
   "id": "ad498d9c",
   "metadata": {},
   "outputs": [
    {
     "data": {
      "text/html": [
       "<div>\n",
       "<style scoped>\n",
       "    .dataframe tbody tr th:only-of-type {\n",
       "        vertical-align: middle;\n",
       "    }\n",
       "\n",
       "    .dataframe tbody tr th {\n",
       "        vertical-align: top;\n",
       "    }\n",
       "\n",
       "    .dataframe thead th {\n",
       "        text-align: right;\n",
       "    }\n",
       "</style>\n",
       "<table border=\"1\" class=\"dataframe\">\n",
       "  <thead>\n",
       "    <tr style=\"text-align: right;\">\n",
       "      <th></th>\n",
       "      <th>(s=2,50)</th>\n",
       "      <th>(s=2,100)</th>\n",
       "      <th>(s=2,200)</th>\n",
       "      <th>(N_tour=25,50)</th>\n",
       "      <th>(N_tour=25,100)</th>\n",
       "      <th>(N_tour=25,200)</th>\n",
       "    </tr>\n",
       "  </thead>\n",
       "  <tbody>\n",
       "    <tr>\n",
       "      <th>0</th>\n",
       "      <td>449.651135</td>\n",
       "      <td>447.033719</td>\n",
       "      <td>441.783015</td>\n",
       "      <td>394.480284</td>\n",
       "      <td>390.132807</td>\n",
       "      <td>379.444482</td>\n",
       "    </tr>\n",
       "  </tbody>\n",
       "</table>\n",
       "</div>"
      ],
      "text/plain": [
       "     (s=2,50)   (s=2,100)   (s=2,200)  (N_tour=25,50)  (N_tour=25,100)  \\\n",
       "0  449.651135  447.033719  441.783015      394.480284       390.132807   \n",
       "\n",
       "   (N_tour=25,200)  \n",
       "0       379.444482  "
      ]
     },
     "execution_count": 5,
     "metadata": {},
     "output_type": "execute_result"
    }
   ],
   "source": [
    "costValList = getMediansOf(minimized_df,'costVal_median')\n",
    "\n",
    "outdfC = pd.DataFrame(costValList,columns=['(s=2,50)','(s=2,100)','(s=2,200)','(N_tour=25,50)','(N_tour=25,100)','(N_tour=25,200)'],index=['0'])\n",
    "outdfC"
   ]
  },
  {
   "cell_type": "code",
   "execution_count": 6,
   "id": "12bc84fd",
   "metadata": {},
   "outputs": [
    {
     "name": "stdout",
     "output_type": "stream",
     "text": [
      "\\begin{tabular}{|c|c|c|c|c|c|c|}\n",
      "\\toprule\n",
      "(s=2,50) & (s=2,100) & (s=2,200) & (N_tour=25,50) & (N_tour=25,100) & (N_tour=25,200) \\\\\n",
      "\\midrule\n",
      "449.651135 & 447.033719 & 441.783015 & 394.480284 & 390.132807 & 379.444482 \\\\\n",
      "\\bottomrule\n",
      "\\end{tabular}\n",
      "\n"
     ]
    }
   ],
   "source": [
    "latex_table = outdfC.to_latex(\n",
    "    index=False,        # Exclude row indices\n",
    "    column_format='|c|c|c|c|c|c|c|',  # Specify column formatting\n",
    "    escape=False        # Disable LaTeX escaping of special characters\n",
    ")\n",
    "\n",
    "# Print the LaTeX table or save it to a .tex file\n",
    "print(latex_table)"
   ]
  },
  {
   "cell_type": "code",
   "execution_count": 7,
   "id": "d28c61b7",
   "metadata": {},
   "outputs": [
    {
     "name": "stdout",
     "output_type": "stream",
     "text": [
      "['(s=2,50)', '(s=2,100)', '(s=2,200)', '(N_tour=25,50)', '(N_tour=25,100)', '(N_tour=25,200)']\n",
      "(s=2,50)[10.  1.  1.  1.  1.  1.]\n",
      "(s=2,100)[ 1. 10.  1.  1.  1.  1.]\n",
      "(s=2,200)[ 1.  1. 10.  1.  1.  1.]\n",
      "(N_tour=25,50)[ 1.  1.  1. 10.  1.  1.]\n",
      "(N_tour=25,100)[ 1.  1.  1.  1. 10.  1.]\n",
      "(N_tour=25,200)[ 1.  1.  1.  1.  1. 10.]\n",
      "[[0. 0. 0. 0. 0. 0.]\n",
      " [0. 0. 0. 0. 0. 0.]\n",
      " [0. 0. 0. 0. 0. 0.]\n",
      " [0. 0. 0. 0. 0. 0.]\n",
      " [0. 0. 0. 0. 0. 0.]\n",
      " [0. 0. 0. 0. 0. 0.]]\n"
     ]
    }
   ],
   "source": [
    "pVal_matrix_costVals = np.zeros((6,6))\n",
    "H0_rej_matrix_costVals = np.zeros((6,6))\n",
    "p = ['(s=2,50)','(s=2,100)','(s=2,200)','(N_tour=25,50)','(N_tour=25,100)','(N_tour=25,200)']\n",
    "for i in range(6):\n",
    "    current = outdfC[p[i]].values\n",
    "    for j in range(6):\n",
    "        if i==j:\n",
    "            #necessary step because \n",
    "            pVal_matrix_costVals[i][j]= 10 # a pvalue cannot take a value of 10 \n",
    "        else:\n",
    "            statistic,pvalue = stats.wilcoxon(current,outdfC[p[j]].values, alternative='two-sided')\n",
    "            pVal_matrix_costVals[i][j]=pvalue\n",
    "\n",
    "print(p)\n",
    "for i in range(6):\n",
    "    print(str(p[i])+str(pVal_matrix_costVals[i][:]))\n",
    "    \n",
    "for i in range(6):\n",
    "    for j in range(6):\n",
    "        if pVal_matrix_costVals[i][j]<0.05:\n",
    "            H0_rej_matrix_costVals[i][j]= 1\n",
    "print(H0_rej_matrix_costVals)  "
   ]
  },
  {
   "cell_type": "markdown",
   "id": "44c25e6b",
   "metadata": {},
   "source": [
    "### Wilcoxon on Last Hit"
   ]
  },
  {
   "cell_type": "code",
   "execution_count": 8,
   "id": "948e7bf4",
   "metadata": {},
   "outputs": [
    {
     "data": {
      "text/html": [
       "<div>\n",
       "<style scoped>\n",
       "    .dataframe tbody tr th:only-of-type {\n",
       "        vertical-align: middle;\n",
       "    }\n",
       "\n",
       "    .dataframe tbody tr th {\n",
       "        vertical-align: top;\n",
       "    }\n",
       "\n",
       "    .dataframe thead th {\n",
       "        text-align: right;\n",
       "    }\n",
       "</style>\n",
       "<table border=\"1\" class=\"dataframe\">\n",
       "  <thead>\n",
       "    <tr style=\"text-align: right;\">\n",
       "      <th></th>\n",
       "      <th>(s=2,50)</th>\n",
       "      <th>(s=2,100)</th>\n",
       "      <th>(s=2,200)</th>\n",
       "      <th>(N_tour=25,50)</th>\n",
       "      <th>(N_tour=25,100)</th>\n",
       "      <th>(N_tour=25,200)</th>\n",
       "    </tr>\n",
       "  </thead>\n",
       "  <tbody>\n",
       "    <tr>\n",
       "      <th>0</th>\n",
       "      <td>6368</td>\n",
       "      <td>16591</td>\n",
       "      <td>24785</td>\n",
       "      <td>158950</td>\n",
       "      <td>173084</td>\n",
       "      <td>158801</td>\n",
       "    </tr>\n",
       "  </tbody>\n",
       "</table>\n",
       "</div>"
      ],
      "text/plain": [
       "   (s=2,50)  (s=2,100)  (s=2,200)  (N_tour=25,50)  (N_tour=25,100)  \\\n",
       "0      6368      16591      24785          158950           173084   \n",
       "\n",
       "   (N_tour=25,200)  \n",
       "0           158801  "
      ]
     },
     "execution_count": 8,
     "metadata": {},
     "output_type": "execute_result"
    }
   ],
   "source": [
    "lastHitList = getMediansOf(minimized_df,'lastHit_median')\n",
    "\n",
    "outdfL = pd.DataFrame(lastHitList,columns=['(s=2,50)','(s=2,100)','(s=2,200)','(N_tour=25,50)','(N_tour=25,100)','(N_tour=25,200)'],index=['0'])\n",
    "outdfL"
   ]
  },
  {
   "cell_type": "code",
   "execution_count": 9,
   "id": "2b637f74",
   "metadata": {},
   "outputs": [
    {
     "name": "stdout",
     "output_type": "stream",
     "text": [
      "\\begin{tabular}{|c|c|c|c|c|c|c|}\n",
      "\\toprule\n",
      "(s=2,50) & (s=2,100) & (s=2,200) & (N_tour=25,50) & (N_tour=25,100) & (N_tour=25,200) \\\\\n",
      "\\midrule\n",
      "6368 & 16591 & 24785 & 158950 & 173084 & 158801 \\\\\n",
      "\\bottomrule\n",
      "\\end{tabular}\n",
      "\n"
     ]
    }
   ],
   "source": [
    "latex_table = outdfL.to_latex(\n",
    "    index=False,        # Exclude row indices\n",
    "    column_format='|c|c|c|c|c|c|c|',  # Specify column formatting\n",
    "    escape=False        # Disable LaTeX escaping of special characters\n",
    ")\n",
    "\n",
    "# Print the LaTeX table or save it to a .tex file\n",
    "print(latex_table)"
   ]
  },
  {
   "cell_type": "code",
   "execution_count": 10,
   "id": "40c458e1",
   "metadata": {},
   "outputs": [
    {
     "name": "stdout",
     "output_type": "stream",
     "text": [
      "['(s=2,50)', '(s=2,100)', '(s=2,200)', '(N_tour=25,50)', '(N_tour=25,100)', '(N_tour=25,200)']\n",
      "(s=2,50)[10.  1.  1.  1.  1.  1.]\n",
      "(s=2,100)[ 1. 10.  1.  1.  1.  1.]\n",
      "(s=2,200)[ 1.  1. 10.  1.  1.  1.]\n",
      "(N_tour=25,50)[ 1.  1.  1. 10.  1.  1.]\n",
      "(N_tour=25,100)[ 1.  1.  1.  1. 10.  1.]\n",
      "(N_tour=25,200)[ 1.  1.  1.  1.  1. 10.]\n",
      "[[0. 0. 0. 0. 0. 0.]\n",
      " [0. 0. 0. 0. 0. 0.]\n",
      " [0. 0. 0. 0. 0. 0.]\n",
      " [0. 0. 0. 0. 0. 0.]\n",
      " [0. 0. 0. 0. 0. 0.]\n",
      " [0. 0. 0. 0. 0. 0.]]\n"
     ]
    }
   ],
   "source": [
    "pVal_matrix_lastHit = np.zeros((6,6))\n",
    "H0_rej_matrix_lastHit = np.zeros((6,6))\n",
    "p = ['(s=2,50)','(s=2,100)','(s=2,200)','(N_tour=25,50)','(N_tour=25,100)','(N_tour=25,200)']\n",
    "for i in range(6):\n",
    "    current = outdfL[p[i]].values\n",
    "    for j in range(6):\n",
    "        if i==j:\n",
    "            #necessary step because \n",
    "            pVal_matrix_lastHit[i][j]= 10 # a pvalue cannot take a value of 10 \n",
    "        else:\n",
    "            statistic,pvalue = stats.wilcoxon(current,outdfL[p[j]].values, alternative='two-sided')\n",
    "            pVal_matrix_lastHit[i][j]=pvalue\n",
    "\n",
    "print(p)\n",
    "for i in range(6):\n",
    "    print(str(p[i])+str(pVal_matrix_lastHit[i][:]))\n",
    "    \n",
    "for i in range(6):\n",
    "    for j in range(6):\n",
    "        if pVal_matrix_lastHit[i][j]<0.05:\n",
    "            H0_rej_matrix_lastHit[i][j]= 1\n",
    "print(H0_rej_matrix_lastHit)"
   ]
  },
  {
   "cell_type": "code",
   "execution_count": null,
   "id": "1e40e00d",
   "metadata": {},
   "outputs": [],
   "source": []
  }
 ],
 "metadata": {
  "kernelspec": {
   "display_name": "Python 3 (ipykernel)",
   "language": "python",
   "name": "python3"
  },
  "language_info": {
   "codemirror_mode": {
    "name": "ipython",
    "version": 3
   },
   "file_extension": ".py",
   "mimetype": "text/x-python",
   "name": "python",
   "nbconvert_exporter": "python",
   "pygments_lexer": "ipython3",
   "version": "3.11.5"
  }
 },
 "nbformat": 4,
 "nbformat_minor": 5
}
